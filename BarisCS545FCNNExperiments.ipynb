{
  "nbformat": 4,
  "nbformat_minor": 0,
  "metadata": {
    "kernelspec": {
      "display_name": "Python [default]",
      "language": "python",
      "name": "python3"
    },
    "language_info": {
      "codemirror_mode": {
        "name": "ipython",
        "version": 3
      },
      "file_extension": ".py",
      "mimetype": "text/x-python",
      "name": "python",
      "nbconvert_exporter": "python",
      "pygments_lexer": "ipython3",
      "version": "3.6.5"
    },
    "colab": {
      "name": "BarisCS545FCNNExperiments.ipynb",
      "provenance": [],
      "collapsed_sections": []
    },
    "widgets": {
      "application/vnd.jupyter.widget-state+json": {
        "280e1701be764022b62fd242d9106f15": {
          "model_module": "@jupyter-widgets/controls",
          "model_name": "HBoxModel",
          "state": {
            "_view_name": "HBoxView",
            "_dom_classes": [],
            "_model_name": "HBoxModel",
            "_view_module": "@jupyter-widgets/controls",
            "_model_module_version": "1.5.0",
            "_view_count": null,
            "_view_module_version": "1.5.0",
            "box_style": "",
            "layout": "IPY_MODEL_05388c5ca94143389db7ff3c0e9e6aea",
            "_model_module": "@jupyter-widgets/controls",
            "children": [
              "IPY_MODEL_aa35afc8417f4b99ab253a868fcb4e3a",
              "IPY_MODEL_8c3b1b79acdc430dabe68b5d9b10fefd"
            ]
          }
        },
        "05388c5ca94143389db7ff3c0e9e6aea": {
          "model_module": "@jupyter-widgets/base",
          "model_name": "LayoutModel",
          "state": {
            "_view_name": "LayoutView",
            "grid_template_rows": null,
            "right": null,
            "justify_content": null,
            "_view_module": "@jupyter-widgets/base",
            "overflow": null,
            "_model_module_version": "1.2.0",
            "_view_count": null,
            "flex_flow": null,
            "width": null,
            "min_width": null,
            "border": null,
            "align_items": null,
            "bottom": null,
            "_model_module": "@jupyter-widgets/base",
            "top": null,
            "grid_column": null,
            "overflow_y": null,
            "overflow_x": null,
            "grid_auto_flow": null,
            "grid_area": null,
            "grid_template_columns": null,
            "flex": null,
            "_model_name": "LayoutModel",
            "justify_items": null,
            "grid_row": null,
            "max_height": null,
            "align_content": null,
            "visibility": null,
            "align_self": null,
            "height": null,
            "min_height": null,
            "padding": null,
            "grid_auto_rows": null,
            "grid_gap": null,
            "max_width": null,
            "order": null,
            "_view_module_version": "1.2.0",
            "grid_template_areas": null,
            "object_position": null,
            "object_fit": null,
            "grid_auto_columns": null,
            "margin": null,
            "display": null,
            "left": null
          }
        },
        "aa35afc8417f4b99ab253a868fcb4e3a": {
          "model_module": "@jupyter-widgets/controls",
          "model_name": "FloatProgressModel",
          "state": {
            "_view_name": "ProgressView",
            "style": "IPY_MODEL_907dc217888342a8aefba1b65ab4360e",
            "_dom_classes": [],
            "description": "",
            "_model_name": "FloatProgressModel",
            "bar_style": "info",
            "max": 1,
            "_view_module": "@jupyter-widgets/controls",
            "_model_module_version": "1.5.0",
            "value": 1,
            "_view_count": null,
            "_view_module_version": "1.5.0",
            "orientation": "horizontal",
            "min": 0,
            "description_tooltip": null,
            "_model_module": "@jupyter-widgets/controls",
            "layout": "IPY_MODEL_450b658a64324680a42a7ea83a74167c"
          }
        },
        "8c3b1b79acdc430dabe68b5d9b10fefd": {
          "model_module": "@jupyter-widgets/controls",
          "model_name": "HTMLModel",
          "state": {
            "_view_name": "HTMLView",
            "style": "IPY_MODEL_8688089cdff348aa92147ad2419d7f14",
            "_dom_classes": [],
            "description": "",
            "_model_name": "HTMLModel",
            "placeholder": "​",
            "_view_module": "@jupyter-widgets/controls",
            "_model_module_version": "1.5.0",
            "value": " 170500096/? [00:20&lt;00:00, 79922195.35it/s]",
            "_view_count": null,
            "_view_module_version": "1.5.0",
            "description_tooltip": null,
            "_model_module": "@jupyter-widgets/controls",
            "layout": "IPY_MODEL_1e579833ba43451d95e8404a28c3a4a3"
          }
        },
        "907dc217888342a8aefba1b65ab4360e": {
          "model_module": "@jupyter-widgets/controls",
          "model_name": "ProgressStyleModel",
          "state": {
            "_view_name": "StyleView",
            "_model_name": "ProgressStyleModel",
            "description_width": "initial",
            "_view_module": "@jupyter-widgets/base",
            "_model_module_version": "1.5.0",
            "_view_count": null,
            "_view_module_version": "1.2.0",
            "bar_color": null,
            "_model_module": "@jupyter-widgets/controls"
          }
        },
        "450b658a64324680a42a7ea83a74167c": {
          "model_module": "@jupyter-widgets/base",
          "model_name": "LayoutModel",
          "state": {
            "_view_name": "LayoutView",
            "grid_template_rows": null,
            "right": null,
            "justify_content": null,
            "_view_module": "@jupyter-widgets/base",
            "overflow": null,
            "_model_module_version": "1.2.0",
            "_view_count": null,
            "flex_flow": null,
            "width": null,
            "min_width": null,
            "border": null,
            "align_items": null,
            "bottom": null,
            "_model_module": "@jupyter-widgets/base",
            "top": null,
            "grid_column": null,
            "overflow_y": null,
            "overflow_x": null,
            "grid_auto_flow": null,
            "grid_area": null,
            "grid_template_columns": null,
            "flex": null,
            "_model_name": "LayoutModel",
            "justify_items": null,
            "grid_row": null,
            "max_height": null,
            "align_content": null,
            "visibility": null,
            "align_self": null,
            "height": null,
            "min_height": null,
            "padding": null,
            "grid_auto_rows": null,
            "grid_gap": null,
            "max_width": null,
            "order": null,
            "_view_module_version": "1.2.0",
            "grid_template_areas": null,
            "object_position": null,
            "object_fit": null,
            "grid_auto_columns": null,
            "margin": null,
            "display": null,
            "left": null
          }
        },
        "8688089cdff348aa92147ad2419d7f14": {
          "model_module": "@jupyter-widgets/controls",
          "model_name": "DescriptionStyleModel",
          "state": {
            "_view_name": "StyleView",
            "_model_name": "DescriptionStyleModel",
            "description_width": "",
            "_view_module": "@jupyter-widgets/base",
            "_model_module_version": "1.5.0",
            "_view_count": null,
            "_view_module_version": "1.2.0",
            "_model_module": "@jupyter-widgets/controls"
          }
        },
        "1e579833ba43451d95e8404a28c3a4a3": {
          "model_module": "@jupyter-widgets/base",
          "model_name": "LayoutModel",
          "state": {
            "_view_name": "LayoutView",
            "grid_template_rows": null,
            "right": null,
            "justify_content": null,
            "_view_module": "@jupyter-widgets/base",
            "overflow": null,
            "_model_module_version": "1.2.0",
            "_view_count": null,
            "flex_flow": null,
            "width": null,
            "min_width": null,
            "border": null,
            "align_items": null,
            "bottom": null,
            "_model_module": "@jupyter-widgets/base",
            "top": null,
            "grid_column": null,
            "overflow_y": null,
            "overflow_x": null,
            "grid_auto_flow": null,
            "grid_area": null,
            "grid_template_columns": null,
            "flex": null,
            "_model_name": "LayoutModel",
            "justify_items": null,
            "grid_row": null,
            "max_height": null,
            "align_content": null,
            "visibility": null,
            "align_self": null,
            "height": null,
            "min_height": null,
            "padding": null,
            "grid_auto_rows": null,
            "grid_gap": null,
            "max_width": null,
            "order": null,
            "_view_module_version": "1.2.0",
            "grid_template_areas": null,
            "object_position": null,
            "object_fit": null,
            "grid_auto_columns": null,
            "margin": null,
            "display": null,
            "left": null
          }
        }
      }
    }
  },
  "cells": [
    {
      "cell_type": "markdown",
      "metadata": {
        "id": "zWsg7c0V1uFj"
      },
      "source": [
        "# Loading and Checking Data"
      ]
    },
    {
      "cell_type": "markdown",
      "metadata": {
        "id": "lTx8Cm0N1uFl"
      },
      "source": [
        "## Importing Libraries"
      ]
    },
    {
      "cell_type": "code",
      "metadata": {
        "id": "zaux1aCa1uFl"
      },
      "source": [
        "import torch\n",
        "import torchvision\n",
        "import torchvision.transforms as transforms\n",
        "import torch.nn as nn\n",
        "import torch.nn.functional as F\n",
        "import torch.optim as optim\n",
        "from torch.autograd import Variable\n",
        "\n",
        "import math\n",
        "import numpy as np\n",
        "import matplotlib.pyplot as plt\n",
        "%matplotlib inline"
      ],
      "execution_count": 1,
      "outputs": []
    },
    {
      "cell_type": "code",
      "metadata": {
        "id": "ExJ4_Wy11uFl"
      },
      "source": [
        "use_cuda = torch.cuda.is_available()"
      ],
      "execution_count": 2,
      "outputs": []
    },
    {
      "cell_type": "markdown",
      "metadata": {
        "id": "5foOMqLr1uFl"
      },
      "source": [
        "## Loading Data"
      ]
    },
    {
      "cell_type": "code",
      "metadata": {
        "colab": {
          "base_uri": "https://localhost:8080/",
          "height": 104,
          "referenced_widgets": [
            "280e1701be764022b62fd242d9106f15",
            "05388c5ca94143389db7ff3c0e9e6aea",
            "aa35afc8417f4b99ab253a868fcb4e3a",
            "8c3b1b79acdc430dabe68b5d9b10fefd",
            "907dc217888342a8aefba1b65ab4360e",
            "450b658a64324680a42a7ea83a74167c",
            "8688089cdff348aa92147ad2419d7f14",
            "1e579833ba43451d95e8404a28c3a4a3"
          ]
        },
        "id": "68VViXAy1uFm",
        "outputId": "0cd347a9-624e-4abe-d854-2116f0cde72f"
      },
      "source": [
        "batch_size = 4\n",
        "\n",
        "# These are the mean and standard deviation values for all pictures in the training set.\n",
        "mean = (0.4914 ,  0.48216,  0.44653)\n",
        "std = (0.24703,  0.24349,  0.26159)\n",
        "\n",
        "# Class to denormalize images to display later.\n",
        "class DeNormalize(object):\n",
        "    def __init__(self, mean, std):\n",
        "        self.mean = mean\n",
        "        self.std = std\n",
        "\n",
        "    def __call__(self, tensor):\n",
        "        for t, m, s in zip(tensor, self.mean, self.std):\n",
        "            t.mul_(s).add_(m)\n",
        "        return tensor\n",
        "\n",
        "# Creating instance of Functor\n",
        "denorm = DeNormalize(mean, std)\n",
        "\n",
        "# Load data\n",
        "transform = transforms.Compose([transforms.ToTensor(),\n",
        "                                transforms.Normalize(mean, std)])\n",
        "\n",
        "trainset = torchvision.datasets.CIFAR10(root='./data', train=True,\n",
        "                                        download=True, transform=transform)\n",
        "\n",
        "trainloader = torch.utils.data.DataLoader(trainset, batch_size=batch_size,\n",
        "                                          shuffle=True, num_workers=4)\n",
        "\n",
        "testset = torchvision.datasets.CIFAR10(root='./data', train=False,\n",
        "                                       download=True, transform=transform)\n",
        "\n",
        "# Do NOT shuffle the test set or else the order will be messed up\n",
        "testloader = torch.utils.data.DataLoader(testset, batch_size=batch_size,\n",
        "                                         shuffle=False, num_workers=4)\n",
        "\n",
        "# Classes in order\n",
        "classes = ('plane', 'car', 'bird', 'cat',\n",
        "           'deer', 'dog', 'frog', 'horse', 'ship', 'truck')"
      ],
      "execution_count": 3,
      "outputs": [
        {
          "output_type": "stream",
          "text": [
            "Downloading https://www.cs.toronto.edu/~kriz/cifar-10-python.tar.gz to ./data/cifar-10-python.tar.gz\n"
          ],
          "name": "stdout"
        },
        {
          "output_type": "display_data",
          "data": {
            "application/vnd.jupyter.widget-view+json": {
              "model_id": "280e1701be764022b62fd242d9106f15",
              "version_minor": 0,
              "version_major": 2
            },
            "text/plain": [
              "HBox(children=(FloatProgress(value=1.0, bar_style='info', max=1.0), HTML(value='')))"
            ]
          },
          "metadata": {
            "tags": []
          }
        },
        {
          "output_type": "stream",
          "text": [
            "Extracting ./data/cifar-10-python.tar.gz to ./data\n",
            "Files already downloaded and verified\n"
          ],
          "name": "stdout"
        }
      ]
    },
    {
      "cell_type": "markdown",
      "metadata": {
        "id": "Yz_cWxqk1uFq"
      },
      "source": [
        "## Sample Images and Labels"
      ]
    },
    {
      "cell_type": "code",
      "metadata": {
        "colab": {
          "base_uri": "https://localhost:8080/",
          "height": 156
        },
        "id": "GAEO3pgP1uFr",
        "outputId": "a4b0893c-6438-43a0-9abb-5abca22edadb"
      },
      "source": [
        "# functions to show an image\n",
        "def imshow(img):\n",
        "    img = denorm(img)    # unnormalize\n",
        "    npimg = img.numpy()\n",
        "    plt.imshow(np.transpose(npimg, (1, 2, 0)))\n",
        "\n",
        "\n",
        "# get some random training images\n",
        "dataiter = iter(trainloader)\n",
        "images, labels = dataiter.next()\n",
        "\n",
        "# show images\n",
        "imshow(torchvision.utils.make_grid(images))\n",
        "# print labels\n",
        "print(' '.join('%5s' % classes[labels[j]] for j in range(4)))"
      ],
      "execution_count": 4,
      "outputs": [
        {
          "output_type": "stream",
          "text": [
            " bird   cat  ship truck\n"
          ],
          "name": "stdout"
        },
        {
          "output_type": "display_data",
          "data": {
            "image/png": "[encoded data removed]",
            "text/plain": [
              "<Figure size 432x288 with 1 Axes>"
            ]
          },
          "metadata": {
            "tags": [],
            "needs_background": "light"
          }
        }
      ]
    },
    {
      "cell_type": "markdown",
      "metadata": {
        "id": "2pOwHwPa1uFr"
      },
      "source": [
        "# Defining Model"
      ]
    },
    {
      "cell_type": "markdown",
      "metadata": {
        "id": "hpcKuoi31uFr"
      },
      "source": [
        "## Fully-Connected DNN"
      ]
    },
    {
      "cell_type": "code",
      "metadata": {
        "id": "nkrL6vLh1uFs"
      },
      "source": [
        "class Net_DNN(nn.Module):\n",
        "    def __init__(self, architecture):\n",
        "        super().__init__()\n",
        "        self.layers = nn.ModuleList([\n",
        "                                    nn.Linear(architecture[layer], architecture[layer + 1]) \n",
        "                                    for layer in range(len(architecture) - 1)])\n",
        "        \n",
        "    def forward(self, data):\n",
        "        # Flatten the Tensor (i.e., dimensions 3 x 32 x 32) to a single column\n",
        "        data = data.view(data.size(0), -1)\n",
        "        for layer in self.layers:\n",
        "            layer_data = layer(data)\n",
        "            data = F.relu(layer_data)\n",
        "        return F.log_softmax(layer_data, dim=-1)"
      ],
      "execution_count": 5,
      "outputs": []
    },
    {
      "cell_type": "markdown",
      "metadata": {
        "id": "_v84gIot1uFt"
      },
      "source": [
        "## Fully-CNN"
      ]
    },
    {
      "cell_type": "code",
      "metadata": {
        "id": "fnw2RlvN1uFt"
      },
      "source": [
        "class Net_CNN(nn.Module):\n",
        "    # Padding is set to 2 and stride to 2\n",
        "    # Padding ensures all edge pixels are exposed to the filter\n",
        "    # Stride = 2 is common practice\n",
        "    def __init__(self, layers, c, stride=2):\n",
        "        super().__init__()\n",
        "        self.layers = nn.ModuleList([\n",
        "                                    nn.Conv2d(layers[i], layers[i + 1], kernel_size=3, padding=2, stride=stride)\n",
        "                                    for i in range(len(layers) - 1)])\n",
        "        self.pool = nn.AdaptiveMaxPool2d(1) # Simply takes the maximum value from the Tensor\n",
        "        self.out = nn.Linear(layers[-1], c)\n",
        "        \n",
        "    def forward(self, data):\n",
        "        for layer in self.layers: \n",
        "            data = F.relu(layer(data))\n",
        "        data = self.pool(data)\n",
        "        data = data.view(data.size(0), -1)\n",
        "        return F.log_softmax(self.out(data), dim=-1)"
      ],
      "execution_count": 6,
      "outputs": []
    },
    {
      "cell_type": "markdown",
      "metadata": {
        "id": "WfEsjopF1uFt"
      },
      "source": [
        "## Chained CNN and NN"
      ]
    },
    {
      "cell_type": "code",
      "metadata": {
        "id": "djvqEERY1uFt"
      },
      "source": [
        "class Net_CNN_NN(nn.Module):\n",
        "    # Padding is set to 2 and stride to 2\n",
        "    # Padding ensures all edge pixels are exposed to the filter\n",
        "    # Stride = 2 is common practice\n",
        "    def __init__(self, layers, architecture, stride=2):\n",
        "        super().__init__()\n",
        "        # Fully Convolutional Layers\n",
        "        self.layers = nn.ModuleList([\n",
        "                                    nn.Conv2d(layers[i], layers[i + 1], kernel_size=3, padding=2,stride=stride)\n",
        "                                    for i in range(len(layers) - 1)])\n",
        "        # Fully Connected Neural Network to map to output\n",
        "        self.layers_NN = nn.ModuleList([\n",
        "                                    nn.Linear(architecture[layer], architecture[layer + 1]) \n",
        "                                    for layer in range(len(architecture) - 1)])\n",
        "        \n",
        "        self.pool = nn.AdaptiveMaxPool2d(1) # Simply takes the maximum value from the Tensor\n",
        "        \n",
        "    def forward(self, data):\n",
        "        for layer in self.layers: \n",
        "            data = F.relu(layer(data))\n",
        "        data = self.pool(data)\n",
        "        data = data.view(data.size(0), -1)\n",
        "        for layer in self.layers_NN:\n",
        "            layer_data = layer(data)\n",
        "            data = F.relu(layer_data)\n",
        "        \n",
        "        return F.log_softmax(layer_data, dim=-1)"
      ],
      "execution_count": 7,
      "outputs": []
    },
    {
      "cell_type": "markdown",
      "metadata": {
        "id": "nNq99n4l1uFt"
      },
      "source": [
        "## Defining the NN, Loss Function and Optimizer"
      ]
    },
    {
      "cell_type": "code",
      "metadata": {
        "id": "jwXy3i4-1uFt"
      },
      "source": [
        "# ---------------------------------------------\n",
        "# Uncomment the architecture you want to use\n",
        "# ---------------------------------------------\n",
        "\n",
        "# # DNN\n",
        "architecture = [32*32*3, 400, 400, 400, 400, 10]\n",
        "net = Net_DNN(architecture)\n",
        "\n",
        "# # CNN\n",
        "# architecture = [3, 20, 40, 80, 160]\n",
        "# num_outputs = 10\n",
        "# net = Net_CNN(architecture, num_outputs)\n",
        "\n",
        "# # CNN with NN\n",
        "# architecture = [3, 20, 40, 80]\n",
        "# architecture_NN = [80, 40, 20, 10]\n",
        "# num_outputs = 10\n",
        "# net = Net_CNN_NN(architecture, architecture_NN)\n",
        "\n",
        "if use_cuda:\n",
        "    net = net.cuda() # Training on the GPU\n",
        "\n",
        "criterion = nn.CrossEntropyLoss()"
      ],
      "execution_count": 8,
      "outputs": []
    },
    {
      "cell_type": "markdown",
      "metadata": {
        "id": "8QX1e7bV1uFt"
      },
      "source": [
        "## Loading Model"
      ]
    },
    {
      "cell_type": "code",
      "metadata": {
        "id": "1iqJZySp1uFt"
      },
      "source": [
        "# ---------------------------------------------\n",
        "# Uncomment the architecture you want to use\n",
        "# ---------------------------------------------\n",
        "\n",
        "# # DNN\n",
        "#architecture = [32*32*3, 100, 100, 10]\n",
        "#net = Net_DNN(architecture)\n",
        "\n",
        "# # CNN\n",
        "'''architecture = [3, 20, 40, 80, 160]\n",
        "num_outputs = 10\n",
        "net = Net_CNN(architecture, num_outputs)'''\n",
        "criterion = nn.CrossEntropyLoss()\n",
        "\n",
        "if use_cuda:\n",
        "    net = net.cuda() # Training on the GPU\n",
        "\n",
        "# ---------------------------------------------\n",
        "# Uetermine the path for the saved weights\n",
        "# ---------------------------------------------\n",
        "PATH = './checkpoints_CNN_v2/5'\n",
        "# Load weights\n",
        "#net.load_state_dict(torch.load(PATH))"
      ],
      "execution_count": 9,
      "outputs": []
    },
    {
      "cell_type": "markdown",
      "metadata": {
        "id": "wecztmp61uFt"
      },
      "source": [
        "## Recording Loss"
      ]
    },
    {
      "cell_type": "code",
      "metadata": {
        "id": "3-iCc-LB1uFt"
      },
      "source": [
        "# Initialize a list of loss_results\n",
        "loss_results = []"
      ],
      "execution_count": 10,
      "outputs": []
    },
    {
      "cell_type": "code",
      "metadata": {
        "id": "ttueTSHmjTgG"
      },
      "source": [
        "def compute_train_accuracy():\n",
        "  # Determine train accuracy\n",
        "  correct = 0\n",
        "  total = 0\n",
        "  for data in trainloader:\n",
        "      # load images\n",
        "      images, labels = data\n",
        "      if use_cuda:\n",
        "          images, labels = images.cuda(), labels.cuda()\n",
        "      # feed forward\n",
        "      outputs = net(Variable(images))\n",
        "      # perform softmax regression\n",
        "      _, predicted = torch.max(outputs.data, 1)\n",
        "      # update stats\n",
        "      total += labels.size(0)\n",
        "      correct += (predicted == labels).sum()\n",
        "  return 100*correct/total\n",
        "\n",
        "\n",
        "def compute_test_accuracy():\n",
        "  # Determine test accuracy\n",
        "  correct = 0\n",
        "  total = 0\n",
        "  for data in testloader:\n",
        "      # load images\n",
        "      images, labels = data\n",
        "      if use_cuda:\n",
        "          images, labels = images.cuda(), labels.cuda()\n",
        "      # feed forward\n",
        "      outputs = net(Variable(images))\n",
        "      # perform softmax regression\n",
        "      _, predicted = torch.max(outputs.data, 1)\n",
        "      # update stats\n",
        "      total += labels.size(0)\n",
        "      correct += (predicted == labels).sum()\n",
        "  return 100*correct/total"
      ],
      "execution_count": 11,
      "outputs": []
    },
    {
      "cell_type": "markdown",
      "metadata": {
        "id": "wU0nhv081uFu"
      },
      "source": [
        "# Training Manual"
      ]
    },
    {
      "cell_type": "code",
      "metadata": {
        "colab": {
          "base_uri": "https://localhost:8080/"
        },
        "id": "fQZfUhNS1uFu",
        "outputId": "4ffc4c54-694c-4369-9340-261249c91944"
      },
      "source": [
        "# Set the Learning rate and epoch start and end points\n",
        "start_epoch = 1\n",
        "end_epoch = 15\n",
        "lr = 0.0001\n",
        "# Define the optimizer\n",
        "#optimizer = optim.SGD(net.parameters(), lr=lr, momentum=0.9)\n",
        "optimizer = optim.Adam(net.parameters(), lr=lr)\n",
        "\n",
        "train_accuracies = [] # Keep track of training and test accuracies for plots\n",
        "test_accuracies = []\n",
        "\n",
        "for epoch in range(start_epoch, end_epoch+1):  # loop over the dataset multiple times\n",
        "    print(\"Epoch:\", epoch)\n",
        "    running_loss = 0.0\n",
        "    for i, (inputs, labels) in enumerate(trainloader, 0):\n",
        "        # get the inputs\n",
        "        if use_cuda:\n",
        "            inputs, labels = inputs.cuda(), labels.cuda()\n",
        "\n",
        "        # wrap them in Variable\n",
        "        inputs, labels = Variable(inputs), Variable(labels) # Inputs and Target values to GPU\n",
        "\n",
        "        # zero the parameter gradients\n",
        "        optimizer.zero_grad()\n",
        "\n",
        "        # forward + backward + optimize\n",
        "        outputs = net(inputs)\n",
        "        loss = criterion(outputs, labels)\n",
        "        loss.backward()\n",
        "        optimizer.step()\n",
        "\n",
        "        # print statistics\n",
        "        running_loss += loss.data.item()\n",
        "        if i % 2000 == 1999:    # print every 2000 mini-batches\n",
        "            print(running_loss / 2000)\n",
        "            loss_results.append(running_loss / 2000)\n",
        "            running_loss = 0.0\n",
        "    PATH = './checkpoints_hybrid/' + str(epoch)\n",
        "    import os\n",
        "    os.makedirs('./checkpoints_hybrid', exist_ok=True)\n",
        "    torch.save(net.state_dict(), PATH)\n",
        "    train_acc = compute_train_accuracy()\n",
        "    test_acc = compute_test_accuracy()\n",
        "    train_accuracies.append(train_acc)\n",
        "    test_accuracies.append(test_acc)\n",
        "    print('Accuracy of the network on the 50000 train images: %d %%' % (train_acc))\n",
        "    print('Accuracy of the network on the 10000 test images: %d %%' % (test_acc))\n",
        "        "
      ],
      "execution_count": 12,
      "outputs": [
        {
          "output_type": "stream",
          "text": [
            "Epoch: 1\n",
            "1.8684152770638467\n",
            "1.6970490334481\n",
            "1.6439989620149136\n",
            "1.6082630559951068\n",
            "1.5777587401270867\n",
            "1.5275802991762757\n",
            "Accuracy of the network on the 50000 train images: 50 %\n",
            "Accuracy of the network on the 10000 test images: 49 %\n",
            "Epoch: 2\n",
            "1.4443296261951328\n",
            "1.4299699961021544\n",
            "1.4112969520762564\n",
            "1.4072769005466252\n",
            "1.4101111987158657\n",
            "1.3906830924153328\n",
            "Accuracy of the network on the 50000 train images: 54 %\n",
            "Accuracy of the network on the 10000 test images: 49 %\n",
            "Epoch: 3\n",
            "1.286445750683546\n",
            "1.26938028293103\n",
            "1.283876324273646\n",
            "1.2944891068674624\n",
            "1.2717283894121647\n",
            "1.290284023974091\n",
            "Accuracy of the network on the 50000 train images: 60 %\n",
            "Accuracy of the network on the 10000 test images: 52 %\n",
            "Epoch: 4\n",
            "1.162434448743239\n",
            "1.169091368380934\n",
            "1.1886916981972755\n",
            "1.1593251050561666\n",
            "1.168604845225811\n",
            "1.1784651909247041\n",
            "Accuracy of the network on the 50000 train images: 62 %\n",
            "Accuracy of the network on the 10000 test images: 52 %\n",
            "Epoch: 5\n",
            "1.042392447737977\n",
            "1.0602269689515234\n",
            "1.0587134577725084\n",
            "1.0792291938699783\n",
            "1.0829983970150352\n",
            "1.0861726335193962\n",
            "Accuracy of the network on the 50000 train images: 66 %\n",
            "Accuracy of the network on the 10000 test images: 53 %\n",
            "Epoch: 6\n",
            "0.9372562838708982\n",
            "0.9646192934364081\n",
            "0.9604015960972756\n",
            "0.983406230058521\n",
            "0.9801779835447669\n",
            "1.0092320676897653\n",
            "Accuracy of the network on the 50000 train images: 70 %\n",
            "Accuracy of the network on the 10000 test images: 54 %\n",
            "Epoch: 7\n",
            "0.833195279433392\n",
            "0.856004722120706\n",
            "0.8943525626922492\n",
            "0.8774627019371838\n",
            "0.8819151524952613\n",
            "0.9228297927342355\n",
            "Accuracy of the network on the 50000 train images: 73 %\n",
            "Accuracy of the network on the 10000 test images: 54 %\n",
            "Epoch: 8\n",
            "0.7242775974368851\n",
            "0.7730695193579886\n",
            "0.8038729916950688\n",
            "0.7638562372545712\n",
            "0.8097110325875692\n",
            "0.8053380415751599\n",
            "Accuracy of the network on the 50000 train images: 77 %\n",
            "Accuracy of the network on the 10000 test images: 53 %\n",
            "Epoch: 9\n",
            "0.6418268702484201\n",
            "0.6734357233674964\n",
            "0.6871752660867642\n",
            "0.7169211071142927\n",
            "0.7203711783978506\n",
            "0.7210921387565613\n",
            "Accuracy of the network on the 50000 train images: 79 %\n",
            "Accuracy of the network on the 10000 test images: 54 %\n",
            "Epoch: 10\n",
            "0.5389795780741552\n",
            "0.5874958162633702\n",
            "0.6059234806554159\n",
            "0.6281567596956156\n",
            "0.6393385306658456\n",
            "0.6485675058056004\n",
            "Accuracy of the network on the 50000 train images: 82 %\n",
            "Accuracy of the network on the 10000 test images: 55 %\n",
            "Epoch: 11\n",
            "0.47574052938294153\n",
            "0.531850645108032\n",
            "0.5273666267803492\n",
            "0.5551548662644418\n",
            "0.5613331220184337\n",
            "0.567614816148649\n",
            "Accuracy of the network on the 50000 train images: 84 %\n",
            "Accuracy of the network on the 10000 test images: 53 %\n",
            "Epoch: 12\n",
            "0.4129929867184837\n",
            "0.45260735723311885\n",
            "0.4784188502349698\n",
            "0.4797529649077333\n",
            "0.5142415462785866\n",
            "0.4929796499005315\n",
            "Accuracy of the network on the 50000 train images: 88 %\n",
            "Accuracy of the network on the 10000 test images: 54 %\n",
            "Epoch: 13\n",
            "0.3768027755879375\n",
            "0.3962746672790627\n",
            "0.41244397790571563\n",
            "0.4328229702757226\n",
            "0.44071516398827953\n",
            "0.4505843653337797\n",
            "Accuracy of the network on the 50000 train images: 88 %\n",
            "Accuracy of the network on the 10000 test images: 53 %\n",
            "Epoch: 14\n",
            "0.3066253947463422\n",
            "0.3805697492892359\n",
            "0.38043033949862637\n",
            "0.39102140295470256\n",
            "0.4079566431597295\n",
            "0.4054094108557074\n",
            "Accuracy of the network on the 50000 train images: 89 %\n",
            "Accuracy of the network on the 10000 test images: 54 %\n",
            "Epoch: 15\n",
            "0.2871049043980383\n",
            "0.30748557162810153\n",
            "0.33897515173963805\n",
            "0.3528432402503049\n",
            "0.3557537228637766\n",
            "0.3721755008226535\n",
            "Accuracy of the network on the 50000 train images: 90 %\n",
            "Accuracy of the network on the 10000 test images: 53 %\n"
          ],
          "name": "stdout"
        }
      ]
    },
    {
      "cell_type": "markdown",
      "metadata": {
        "id": "RH5gDm321uFu"
      },
      "source": [
        "## Sample of the Results"
      ]
    },
    {
      "cell_type": "code",
      "metadata": {
        "colab": {
          "base_uri": "https://localhost:8080/",
          "height": 156
        },
        "id": "GM7FfVW81uFu",
        "outputId": "24035318-4b7e-4151-e64a-cd3e868764fb"
      },
      "source": [
        "# load a min-batch of the images\n",
        "dataiter = iter(testloader)\n",
        "images, labels = dataiter.next()\n",
        "\n",
        "# print images\n",
        "imshow(torchvision.utils.make_grid(images))\n",
        "print('GroundTruth: ', ' '.join('%5s' % classes[labels[j]] for j in range(4)))"
      ],
      "execution_count": 13,
      "outputs": [
        {
          "output_type": "stream",
          "text": [
            "GroundTruth:    cat  ship  ship plane\n"
          ],
          "name": "stdout"
        },
        {
          "output_type": "display_data",
          "data": {
            "image/png": "[encoded data removed]",
            "text/plain": [
              "<Figure size 432x288 with 1 Axes>"
            ]
          },
          "metadata": {
            "tags": [],
            "needs_background": "light"
          }
        }
      ]
    },
    {
      "cell_type": "markdown",
      "metadata": {
        "id": "1HBYzfFE1uFu"
      },
      "source": [
        "## Sample of Predictions"
      ]
    },
    {
      "cell_type": "code",
      "metadata": {
        "colab": {
          "base_uri": "https://localhost:8080/"
        },
        "id": "HnhlZ6VC1uFu",
        "outputId": "b60c8262-8390-4fe1-8acf-187fe441b95f"
      },
      "source": [
        "# For the images shown above, show the predictions\n",
        "# first activate GPU processing\n",
        "if use_cuda:\n",
        "  images, labels = images.cuda(), labels.cuda()\n",
        "\n",
        "# Feed forward\n",
        "outputs = net(Variable(images))\n",
        "_, predicted = torch.max(outputs.data, 1)\n",
        "\n",
        "print('Predicted: ', ' '.join('%5s' % classes[predicted[j]]\n",
        "                              for j in range(4)))"
      ],
      "execution_count": 14,
      "outputs": [
        {
          "output_type": "stream",
          "text": [
            "Predicted:    cat  ship  ship  deer\n"
          ],
          "name": "stdout"
        }
      ]
    },
    {
      "cell_type": "markdown",
      "metadata": {
        "id": "RKeqLda_1uFu"
      },
      "source": [
        "## Total Test Set Accuracy"
      ]
    },
    {
      "cell_type": "code",
      "metadata": {
        "colab": {
          "base_uri": "https://localhost:8080/"
        },
        "id": "i5zLS9CQ1uFu",
        "outputId": "7a34e17a-eec3-4f39-a36e-7ea04f527f97"
      },
      "source": [
        "# Small code snippet to determine test accuracy\n",
        "correct = 0\n",
        "total = 0\n",
        "for data in testloader:\n",
        "    # load images\n",
        "    images, labels = data\n",
        "    if use_cuda:\n",
        "        images, labels = images.cuda(), labels.cuda()\n",
        "    # feed forward\n",
        "    outputs = net(Variable(images))\n",
        "    # perform softmax regression\n",
        "    _, predicted = torch.max(outputs.data, 1)\n",
        "    # update stats\n",
        "    total += labels.size(0)\n",
        "    correct += (predicted == labels).sum()\n",
        "\n",
        "# print the results\n",
        "print('Accuracy of the network on the 10000 test images: %d %%' % (\n",
        "    100 * correct / total))"
      ],
      "execution_count": 15,
      "outputs": [
        {
          "output_type": "stream",
          "text": [
            "Accuracy of the network on the 10000 test images: 53 %\n"
          ],
          "name": "stdout"
        }
      ]
    },
    {
      "cell_type": "markdown",
      "metadata": {
        "id": "u76isaEL1uFu"
      },
      "source": [
        "## Accuracy per Class for Test Set"
      ]
    },
    {
      "cell_type": "code",
      "metadata": {
        "colab": {
          "base_uri": "https://localhost:8080/"
        },
        "id": "sUY24u3O1uFu",
        "outputId": "3f845408-3e54-4157-950b-7c57faf2fa2c"
      },
      "source": [
        "class_correct = list(0. for i in range(10))\n",
        "class_total = list(0. for i in range(10))\n",
        "for data in testloader:\n",
        "    images, labels = data\n",
        "    if use_cuda:\n",
        "        images, labels = images.cuda(), labels.cuda()\n",
        "    outputs = net(Variable(images))\n",
        "    _, predicted = torch.max(outputs.data, 1)\n",
        "    c = (predicted == labels).squeeze()\n",
        "    for i in range(4):\n",
        "        label = labels[i]\n",
        "        class_correct[label] += c[i]\n",
        "        class_total[label] += 1\n",
        "\n",
        "# Print the accuracy per class\n",
        "for i in range(10):\n",
        "    print(classes[i], 100 * class_correct[i] / class_total[i])"
      ],
      "execution_count": 16,
      "outputs": [
        {
          "output_type": "stream",
          "text": [
            "plane tensor(64.5000)\n",
            "car tensor(65.8000)\n",
            "bird tensor(38.5000)\n",
            "cat tensor(40.3000)\n",
            "deer tensor(47.9000)\n",
            "dog tensor(38.4000)\n",
            "frog tensor(63.3000)\n",
            "horse tensor(58.2000)\n",
            "ship tensor(62.)\n",
            "truck tensor(53.7000)\n"
          ],
          "name": "stdout"
        }
      ]
    },
    {
      "cell_type": "markdown",
      "metadata": {
        "id": "qp0_gkab1uFv"
      },
      "source": [
        "# Plot Loss"
      ]
    },
    {
      "cell_type": "code",
      "metadata": {
        "colab": {
          "base_uri": "https://localhost:8080/",
          "height": 295
        },
        "id": "kPCznwLq1uFv",
        "outputId": "a27aed6b-8393-471e-95ce-067fef2d70ba"
      },
      "source": [
        "plt.plot(list(range(0, len(train_accuracies))), train_accuracies) # Plot both the training and test accuracies\n",
        "plt.plot(list(range(0, len(test_accuracies))), test_accuracies)\n",
        "plt.xlabel('Epochs')\n",
        "plt.ylabel('Accuracy')\n",
        "plt.title('Performance of 4-Layer Adam Optimized NN, n=400, LR=0.0001')\n",
        "plt.legend(['Training', 'Test'])\n",
        "plt.show()"
      ],
      "execution_count": 17,
      "outputs": [
        {
          "output_type": "display_data",
          "data": {
            "image/png": "[encoded data removed]",
            "text/plain": [
              "<Figure size 432x288 with 1 Axes>"
            ]
          },
          "metadata": {
            "tags": [],
            "needs_background": "light"
          }
        }
      ]
    },
    {
      "cell_type": "code",
      "metadata": {
        "id": "sVM0Dy6lBqwH"
      },
      "source": [
        ""
      ],
      "execution_count": null,
      "outputs": []
    }
  ]
}